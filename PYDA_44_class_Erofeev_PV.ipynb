{
  "nbformat": 4,
  "nbformat_minor": 0,
  "metadata": {
    "colab": {
      "provenance": [],
      "authorship_tag": "ABX9TyMuXmKzZqE5ixaSqYR/FQbS",
      "include_colab_link": true
    },
    "kernelspec": {
      "name": "python3",
      "display_name": "Python 3"
    },
    "language_info": {
      "name": "python"
    }
  },
  "cells": [
    {
      "cell_type": "markdown",
      "metadata": {
        "id": "view-in-github",
        "colab_type": "text"
      },
      "source": [
        "<a href=\"https://colab.research.google.com/github/pverofeev/hworld/blob/main/PYDA_44_class_Erofeev_PV.ipynb\" target=\"_parent\"><img src=\"https://colab.research.google.com/assets/colab-badge.svg\" alt=\"Open In Colab\"/></a>"
      ]
    },
    {
      "cell_type": "code",
      "execution_count": null,
      "metadata": {
        "id": "t2qQtel0J1lL",
        "colab": {
          "base_uri": "https://localhost:8080/"
        },
        "outputId": "f1eaa9b9-3a89-4095-f4f2-f348e4344767"
      },
      "outputs": [
        {
          "output_type": "stream",
          "name": "stdout",
          "text": [
            "СДР (специальные права заимствования)  =  103.9615\n"
          ]
        }
      ],
      "source": [
        "#Задание 1\n",
        "#Напишите функцию, которая возвращает название валюты (поле ‘Name’) с максимальным значением курса с помощью сервиса www.cbr-xml-daily.ru...ly_json.js\n",
        "\n",
        "import requests\n",
        "def bubble(array):\n",
        "    for i in range(N-1):\n",
        "        for j in range(N-i-1):\n",
        "            if array[j] > array[j+1]:\n",
        "                buff = array[j]\n",
        "                array[j] = array[j+1]\n",
        "                array[j+1] = buff\n",
        "\n",
        " \n",
        "data = requests.get('https://www.cbr-xml-daily.ru/daily_json.js').json()\n",
        "\n",
        "a = []\n",
        "\n",
        "for key, val in data['Valute'].items():\n",
        "    a.append(data['Valute'][key]['Value'])\n",
        "\n",
        "# Определяем длинну а\n",
        "N =len(a)\n",
        "\n",
        "#Делаем сортировку пузырьком\n",
        "bubble(a)\n",
        "\n",
        "#Берем из нее максимальное значение\n",
        "my_max = a[-1]\n",
        "\n",
        "# Ищем название валюты (поле ‘Name’) с максимальным значением курса\n",
        "for key, val in data['Valute'].items():\n",
        "     if data['Valute'][key]['Value'] == my_max:\n",
        "         print(data['Valute'][key]['Name'],' = ',my_max)"
      ]
    },
    {
      "cell_type": "code",
      "source": [
        "# Задание 2\n",
        "# Добавьте в класс Rate параметр diff (со значениями True или False), который в случае значения True \n",
        "# в методах курсов валют (eur, usd итд) будет возвращать не курс валюты, а изменение по сравнению в прошлым значением.\n",
        "# Считайте, self.diff будет принимать значение True только при возврате значения курса. При отображении всей информации о валюте он не используется.\n",
        "import requests\n",
        "class Rate:\n",
        "    def __init__(self, format_='value',diff_=True):\n",
        "        self.format = format_\n",
        "        self.diff = diff_\n",
        "    def exchange_rates(self):\n",
        "        \"\"\"\n",
        "        Возвращает ответ сервиса с информацией о валютах в виде:\n",
        "        \n",
        "        {\n",
        "            'AMD': {\n",
        "                'CharCode': 'AMD',\n",
        "                'ID': 'R01060',\n",
        "                'Name': 'Армянских драмов',\n",
        "                'Nominal': 100,\n",
        "                'NumCode': '051',\n",
        "                'Previous': 14.103,\n",
        "                'Value': 14.0879\n",
        "                },\n",
        "            ...\n",
        "        }\n",
        "        \"\"\"\n",
        "        self.r = requests.get('https://www.cbr-xml-daily.ru/daily_json.js')\n",
        "        return self.r.json()['Valute']\n",
        "    \n",
        "    def make_format(self, currency):\n",
        "        \"\"\"\n",
        "        Возвращает информацию о валюте currency в двух вариантах:\n",
        "        - полная информация о валюте при self.format = 'full':\n",
        "        Rate('full').make_format('EUR')\n",
        "        {\n",
        "            'CharCode': 'EUR',\n",
        "            'ID': 'R01239',\n",
        "            'Name': 'Евро',\n",
        "            'Nominal': 1,\n",
        "            'NumCode': '978',\n",
        "            'Previous': 79.6765,\n",
        "            'Value': 79.4966\n",
        "        }\n",
        "        \n",
        "        Rate('value').make_format('EUR')\n",
        "        79.4966\n",
        "        \"\"\"\n",
        "        response = self.exchange_rates()\n",
        "        \n",
        "        if currency in response:\n",
        "            if self.format == 'full':\n",
        "                return response[currency]\n",
        "            \n",
        "            if self.format == 'value':\n",
        "                if self.diff == True:\n",
        "                    return response[currency]['Previous']\n",
        "                else:\n",
        "                    return response[currency]['Value']\n",
        "        return 'Error'\n",
        "    \n",
        "    def eur(self):\n",
        "        \"\"\"Возвращает курс евро на сегодня в формате self.format\"\"\"\n",
        "        return print(self.make_format('EUR'))\n",
        "    \n",
        "    def usd(self):\n",
        "        \"\"\"Возвращает курс доллара на сегодня в формате self.format\"\"\"\n",
        "        return print(self.make_format('USD'))\n",
        "    \n",
        "    def brl(self):\n",
        "        \"\"\"Возвращает курс бразильского реала на сегодня в формате self.format\"\"\"\n",
        "        return print(self.make_format('BRL'))\n",
        "\n",
        "r = Rate(format_='value',diff_=True)\n",
        "r.eur()\n",
        "r.brl()\n",
        "r.usd()"
      ],
      "metadata": {
        "colab": {
          "base_uri": "https://localhost:8080/"
        },
        "id": "kh6ceL53q035",
        "outputId": "9e81d376-c19b-4e80-aa87-c2134f955256"
      },
      "execution_count": null,
      "outputs": [
        {
          "output_type": "stream",
          "name": "stdout",
          "text": [
            "82.8877\n",
            "15.3166\n",
            "75.8846\n"
          ]
        }
      ]
    },
    {
      "cell_type": "code",
      "source": [
        "# Задание 3\n",
        "# Напишите класс Designer, который учитывает количество международных премий. Подсказки в коде занятия в разделе “Домашнее задание задача 3”.\n",
        "# Комментарий по классу Designer такой:\n",
        "# Напишите класс Designer, который учитывает количество международных премий для дизайнеров (из презентации: “Повышение на 1 грейд за каждые 7 баллов. Получение международной премии – это +2 балла”). Считайте, что при выходе на работу сотрудник уже имеет две премии и их количество не меняется со стажем (конечно если хотите это можно вручную менять).\n",
        " \n",
        "class Employee:\n",
        "    def __init__(self, name, seniority):\n",
        "        self.name = name\n",
        "        self.seniority = seniority\n",
        "        \n",
        "        self.grade = 1\n",
        "    \n",
        "    def grade_up(self):\n",
        "        \"\"\"Повышает уровень сотрудника\"\"\"\n",
        "        self.grade += 1\n",
        "    \n",
        "    def publish_grade(self):\n",
        "        \"\"\"Публикация результатов аккредитации сотрудников\"\"\"\n",
        "        print('Name:',self.name, '| Grade:',self.grade)\n",
        "    \n",
        "    def check_if_it_is_time_for_upgrade(self):\n",
        "        pass\n",
        "\n",
        "class Designer(Employee):\n",
        "    def __init__(self, name, seniority, awards):\n",
        "        super().__init__(name, seniority + awards)\n",
        "        \n",
        "    def check_if_it_is_time_for_upgrade(self):\n",
        "        # для каждой аккредитации увеличиваем счетчик на 1\n",
        "        # при выходе на работу сотрудник уже имеет две премии и их количество не меняется\n",
        "          if self.seniority==0: \n",
        "            self.seniority=1+self.awards*2\n",
        "          else:\n",
        "        #если аккредитация не первая      \n",
        "            self.seniority+=1\n",
        "        # Повышение на 1 грейд за каждые 7 баллов  \n",
        "          if self.seniority % 7==0:\n",
        "            self.grade_up()\n",
        "    \n",
        "          return self.publish_grade()\n",
        " \n",
        "ivan = Designer('Ivan', seniority=0, awards=2)\n",
        "\n",
        "for i in range(20):\n",
        "    ivan.check_if_it_is_time_for_upgrade()"
      ],
      "metadata": {
        "id": "5WiIt3hTamqY",
        "colab": {
          "base_uri": "https://localhost:8080/"
        },
        "outputId": "b7f96a0e-e53e-45f8-98a5-9b2a46a88ff3"
      },
      "execution_count": null,
      "outputs": [
        {
          "output_type": "stream",
          "name": "stdout",
          "text": [
            "Name: Ivan | Grade: 1\n",
            "Name: Ivan | Grade: 1\n",
            "Name: Ivan | Grade: 1\n",
            "Name: Ivan | Grade: 1\n",
            "Name: Ivan | Grade: 2\n",
            "Name: Ivan | Grade: 2\n",
            "Name: Ivan | Grade: 2\n",
            "Name: Ivan | Grade: 2\n",
            "Name: Ivan | Grade: 2\n",
            "Name: Ivan | Grade: 2\n",
            "Name: Ivan | Grade: 2\n",
            "Name: Ivan | Grade: 3\n",
            "Name: Ivan | Grade: 3\n",
            "Name: Ivan | Grade: 3\n",
            "Name: Ivan | Grade: 3\n",
            "Name: Ivan | Grade: 3\n",
            "Name: Ivan | Grade: 3\n",
            "Name: Ivan | Grade: 3\n",
            "Name: Ivan | Grade: 4\n",
            "Name: Ivan | Grade: 4\n"
          ]
        }
      ]
    }
  ]
}